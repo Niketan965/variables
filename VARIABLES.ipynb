{
 "cells": [
  {
   "cell_type": "code",
   "execution_count": 1,
   "id": "77ecfe43-3458-4cf4-9377-e9f5352109b2",
   "metadata": {},
   "outputs": [
    {
     "data": {
      "text/plain": [
       "3"
      ]
     },
     "execution_count": 1,
     "metadata": {},
     "output_type": "execute_result"
    }
   ],
   "source": [
    "1+2"
   ]
  },
  {
   "cell_type": "code",
   "execution_count": 3,
   "id": "fcacee34-f586-4802-b854-6521244d6568",
   "metadata": {},
   "outputs": [],
   "source": [
    "a=2"
   ]
  },
  {
   "cell_type": "code",
   "execution_count": 7,
   "id": "e3875c15-1d34-41f2-ac67-7a59a0b63741",
   "metadata": {},
   "outputs": [
    {
     "data": {
      "text/plain": [
       "2"
      ]
     },
     "execution_count": 7,
     "metadata": {},
     "output_type": "execute_result"
    }
   ],
   "source": [
    "a"
   ]
  },
  {
   "cell_type": "code",
   "execution_count": 9,
   "id": "1abf11c0-3c5a-4d3c-8e88-b20fbf345b19",
   "metadata": {},
   "outputs": [
    {
     "data": {
      "text/plain": [
       "int"
      ]
     },
     "execution_count": 9,
     "metadata": {},
     "output_type": "execute_result"
    }
   ],
   "source": [
    "type(a)"
   ]
  },
  {
   "cell_type": "code",
   "execution_count": 10,
   "id": "baa10ade-6347-4ca8-a257-b11407e84202",
   "metadata": {},
   "outputs": [],
   "source": [
    "b = 45.34"
   ]
  },
  {
   "cell_type": "code",
   "execution_count": 11,
   "id": "ed0717f7-749c-4e2a-97aa-8b123b625112",
   "metadata": {},
   "outputs": [
    {
     "data": {
      "text/plain": [
       "45.34"
      ]
     },
     "execution_count": 11,
     "metadata": {},
     "output_type": "execute_result"
    }
   ],
   "source": [
    "b"
   ]
  },
  {
   "cell_type": "code",
   "execution_count": 12,
   "id": "146da625-b7e7-4a9a-939d-3ece8360136c",
   "metadata": {},
   "outputs": [
    {
     "data": {
      "text/plain": [
       "float"
      ]
     },
     "execution_count": 12,
     "metadata": {},
     "output_type": "execute_result"
    }
   ],
   "source": [
    "type (b)"
   ]
  },
  {
   "cell_type": "code",
   "execution_count": 13,
   "id": "1e122b31-7b27-4fb1-bfa3-1203a9a449f1",
   "metadata": {},
   "outputs": [],
   "source": [
    "a = 10"
   ]
  },
  {
   "cell_type": "code",
   "execution_count": 14,
   "id": "277a7d6f-ebaa-46d6-996b-33ea84369ff2",
   "metadata": {},
   "outputs": [
    {
     "data": {
      "text/plain": [
       "10"
      ]
     },
     "execution_count": 14,
     "metadata": {},
     "output_type": "execute_result"
    }
   ],
   "source": [
    "a"
   ]
  },
  {
   "cell_type": "code",
   "execution_count": 15,
   "id": "1b7e62f7-8976-419a-86e5-4260ed0dad92",
   "metadata": {},
   "outputs": [
    {
     "data": {
      "text/plain": [
       "int"
      ]
     },
     "execution_count": 15,
     "metadata": {},
     "output_type": "execute_result"
    }
   ],
   "source": [
    "type (a)"
   ]
  },
  {
   "cell_type": "code",
   "execution_count": 17,
   "id": "184bfd9d-7c7c-4fbb-9946-e82742048c7c",
   "metadata": {},
   "outputs": [],
   "source": [
    "s = \"Niketan\""
   ]
  },
  {
   "cell_type": "code",
   "execution_count": 18,
   "id": "655bade7-6741-4125-a511-52556be2c4b4",
   "metadata": {},
   "outputs": [
    {
     "data": {
      "text/plain": [
       "'Niketan'"
      ]
     },
     "execution_count": 18,
     "metadata": {},
     "output_type": "execute_result"
    }
   ],
   "source": [
    "s"
   ]
  },
  {
   "cell_type": "code",
   "execution_count": 19,
   "id": "5359a8e8-aaec-4df6-9e3a-768284cb4181",
   "metadata": {},
   "outputs": [],
   "source": [
    "c = \"my name is you\""
   ]
  },
  {
   "cell_type": "code",
   "execution_count": 20,
   "id": "4c23ee20-2185-4d92-80df-8f6bb39846d0",
   "metadata": {},
   "outputs": [
    {
     "data": {
      "text/plain": [
       "'my name is you'"
      ]
     },
     "execution_count": 20,
     "metadata": {},
     "output_type": "execute_result"
    }
   ],
   "source": [
    "c"
   ]
  },
  {
   "cell_type": "code",
   "execution_count": 21,
   "id": "54d56e0b-c415-4a2a-a128-bb264961a9b5",
   "metadata": {},
   "outputs": [
    {
     "data": {
      "text/plain": [
       "str"
      ]
     },
     "execution_count": 21,
     "metadata": {},
     "output_type": "execute_result"
    }
   ],
   "source": [
    "type (s)"
   ]
  },
  {
   "cell_type": "code",
   "execution_count": 22,
   "id": "0ba1de9e-bb5d-4ef8-9073-e2494875af57",
   "metadata": {},
   "outputs": [],
   "source": [
    "b = True "
   ]
  },
  {
   "cell_type": "code",
   "execution_count": 23,
   "id": "0b2f568b-91f2-4830-9237-78954ee68682",
   "metadata": {},
   "outputs": [
    {
     "data": {
      "text/plain": [
       "True"
      ]
     },
     "execution_count": 23,
     "metadata": {},
     "output_type": "execute_result"
    }
   ],
   "source": [
    "b"
   ]
  },
  {
   "cell_type": "code",
   "execution_count": 25,
   "id": "2f0fc17f-8284-4619-a8a0-f5ad33986c33",
   "metadata": {},
   "outputs": [
    {
     "data": {
      "text/plain": [
       "bool"
      ]
     },
     "execution_count": 25,
     "metadata": {},
     "output_type": "execute_result"
    }
   ],
   "source": [
    "type (b)"
   ]
  },
  {
   "cell_type": "code",
   "execution_count": 26,
   "id": "ee64bc3b-3a60-4ddc-bc89-173ab40e7e8b",
   "metadata": {},
   "outputs": [],
   "source": [
    "b1 = True"
   ]
  },
  {
   "cell_type": "code",
   "execution_count": 27,
   "id": "fa7f7ce7-76e2-4d0f-a669-b37a273af6be",
   "metadata": {},
   "outputs": [],
   "source": [
    "b2 = False "
   ]
  },
  {
   "cell_type": "code",
   "execution_count": 28,
   "id": "19e1e3fc-6445-4609-943c-dacd4c00c7a3",
   "metadata": {},
   "outputs": [
    {
     "data": {
      "text/plain": [
       "1"
      ]
     },
     "execution_count": 28,
     "metadata": {},
     "output_type": "execute_result"
    }
   ],
   "source": [
    "b1-b2"
   ]
  },
  {
   "cell_type": "code",
   "execution_count": 29,
   "id": "f5af7f7e-268f-4204-949d-0d1458e25a91",
   "metadata": {},
   "outputs": [
    {
     "data": {
      "text/plain": [
       "0"
      ]
     },
     "execution_count": 29,
     "metadata": {},
     "output_type": "execute_result"
    }
   ],
   "source": [
    "b1*b2"
   ]
  },
  {
   "cell_type": "code",
   "execution_count": 30,
   "id": "e952b30f-5e9c-44a6-b21f-9c3d1842836b",
   "metadata": {},
   "outputs": [],
   "source": [
    "h = 7 + 8j"
   ]
  },
  {
   "cell_type": "code",
   "execution_count": 31,
   "id": "3e60fe26-5747-42bf-b3c1-5ff89124ea1d",
   "metadata": {},
   "outputs": [
    {
     "data": {
      "text/plain": [
       "complex"
      ]
     },
     "execution_count": 31,
     "metadata": {},
     "output_type": "execute_result"
    }
   ],
   "source": [
    "type (h)"
   ]
  },
  {
   "cell_type": "code",
   "execution_count": 32,
   "id": "67146f6c-a0a0-4903-b77f-530b604f742c",
   "metadata": {},
   "outputs": [],
   "source": [
    "i = 6j"
   ]
  },
  {
   "cell_type": "code",
   "execution_count": 33,
   "id": "92049d66-bcd0-4a39-b49f-0a775d34490c",
   "metadata": {},
   "outputs": [
    {
     "data": {
      "text/plain": [
       "complex"
      ]
     },
     "execution_count": 33,
     "metadata": {},
     "output_type": "execute_result"
    }
   ],
   "source": [
    "type (i)\n"
   ]
  },
  {
   "cell_type": "code",
   "execution_count": 34,
   "id": "9cf25692-6f51-45e5-a5ae-cd444888ee63",
   "metadata": {},
   "outputs": [
    {
     "data": {
      "text/plain": [
       "(7+8j)"
      ]
     },
     "execution_count": 34,
     "metadata": {},
     "output_type": "execute_result"
    }
   ],
   "source": [
    "h"
   ]
  },
  {
   "cell_type": "code",
   "execution_count": 35,
   "id": "33c516c7-ada1-44f8-84a5-4f2238d90149",
   "metadata": {},
   "outputs": [
    {
     "data": {
      "text/plain": [
       "8.0"
      ]
     },
     "execution_count": 35,
     "metadata": {},
     "output_type": "execute_result"
    }
   ],
   "source": [
    "h.imag"
   ]
  },
  {
   "cell_type": "code",
   "execution_count": 36,
   "id": "c2004764-d118-4a9d-a8d0-9de07c1a6355",
   "metadata": {},
   "outputs": [
    {
     "data": {
      "text/plain": [
       "7.0"
      ]
     },
     "execution_count": 36,
     "metadata": {},
     "output_type": "execute_result"
    }
   ],
   "source": [
    "h.real"
   ]
  },
  {
   "cell_type": "code",
   "execution_count": 38,
   "id": "7f8f3fe8-540b-4cea-9053-17c2bcd65a6f",
   "metadata": {},
   "outputs": [],
   "source": [
    "x= 10"
   ]
  },
  {
   "cell_type": "code",
   "execution_count": 39,
   "id": "7fa12685-91e4-431c-bcb4-bc00197ca378",
   "metadata": {},
   "outputs": [],
   "source": [
    "y = 20"
   ]
  },
  {
   "cell_type": "code",
   "execution_count": 40,
   "id": "3ddce534-b090-42be-98a7-cb898c66951e",
   "metadata": {},
   "outputs": [],
   "source": [
    " x+=1"
   ]
  },
  {
   "cell_type": "code",
   "execution_count": 41,
   "id": "68baf21f-4a30-43c2-ba94-a1bc84a2b166",
   "metadata": {},
   "outputs": [
    {
     "data": {
      "text/plain": [
       "11"
      ]
     },
     "execution_count": 41,
     "metadata": {},
     "output_type": "execute_result"
    }
   ],
   "source": [
    "x"
   ]
  },
  {
   "cell_type": "code",
   "execution_count": null,
   "id": "f2ddbada-830c-4f84-aabe-8d7dd32e3e77",
   "metadata": {},
   "outputs": [],
   "source": []
  }
 ],
 "metadata": {
  "kernelspec": {
   "display_name": "Python 3 (ipykernel)",
   "language": "python",
   "name": "python3"
  },
  "language_info": {
   "codemirror_mode": {
    "name": "ipython",
    "version": 3
   },
   "file_extension": ".py",
   "mimetype": "text/x-python",
   "name": "python",
   "nbconvert_exporter": "python",
   "pygments_lexer": "ipython3",
   "version": "3.10.8"
  }
 },
 "nbformat": 4,
 "nbformat_minor": 5
}
